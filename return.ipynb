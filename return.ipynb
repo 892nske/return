{
 "cells": [
  {
   "cell_type": "code",
   "execution_count": 3,
   "metadata": {},
   "outputs": [],
   "source": [
    "from urllib.request import urlopen\n",
    "from bs4 import BeautifulSoup\n",
    "import pandas as pd\n",
    "import time\n",
    "import requests"
   ]
  },
  {
   "cell_type": "code",
   "execution_count": 2,
   "metadata": {},
   "outputs": [],
   "source": [
    "# URLの指定\n",
    "html = urlopen(\"https://toushin-lib.fwg.ne.jp/FdsWeb/FDST030000?isinCd=JP90C0003RB7\")\n",
    "bsObj = BeautifulSoup(html, \"html.parser\")\n"
   ]
  },
  {
   "cell_type": "code",
   "execution_count": 3,
   "metadata": {},
   "outputs": [],
   "source": [
    "# テーブルを指定\n",
    "table = bsObj.find_all(\"table\")[3]\n",
    "# rows = table.findAll(\"tr\")\n"
   ]
  },
  {
   "cell_type": "code",
   "execution_count": 4,
   "metadata": {},
   "outputs": [
    {
     "name": "stdout",
     "output_type": "stream",
     "text": [
      "<table class=\"table-bordered w-100\" id=\"showRecentTbl\">\n",
      "<thead class=\"text-center\">\n",
      "<tr>\n",
      "<th>年月日</th>\n",
      "<th>基準価額</th>\n",
      "<th>純資産総額</th>\n",
      "<th>分配金</th>\n",
      "<th>決算期数</th>\n",
      "</tr>\n",
      "</thead>\n",
      "</table>\n"
     ]
    }
   ],
   "source": [
    "print(table)"
   ]
  },
  {
   "cell_type": "code",
   "execution_count": 106,
   "metadata": {},
   "outputs": [],
   "source": [
    "import requests\n",
    "\n",
    "url = \"https://www.jasdec.com/reading/itmei.php?error_flg=&todb=ok&isincode=&name=&brandname=&nexts=&offset=-50&rowcntmax=5760&linkno=1&delhead=&invite=&kensaku=\"\n",
    "params = {'error_flg': '',\n",
    "'todb': 'ok',\n",
    "'isincode': '',\n",
    "'name': '',\n",
    "'brandname': '',\n",
    "'nexts': '',\n",
    "'offset': '',\n",
    "'rowcntmax': '',\n",
    "'linkno': 1,\n",
    "'delhead': '',\n",
    "'invite': 'onclick',\n",
    "'kensaku': 'ok',\n",
    "          }\n",
    "\n",
    "response = requests.get(url)\n",
    "soup = BeautifulSoup(response.text, \"html.parser\")\n",
    "tables = soup.find_all('table',{'class':'maincolor'})"
   ]
  },
  {
   "cell_type": "code",
   "execution_count": 113,
   "metadata": {},
   "outputs": [
    {
     "name": "stdout",
     "output_type": "stream",
     "text": [
      "aaavffggghwwefe2jge\n"
     ]
    }
   ],
   "source": [
    "s = \"aaa{a}ffggg{b}wwefe{c}ge\"\n",
    "print(s.format(a=\"v\",b=\"h\",c=\"2j\"))"
   ]
  },
  {
   "cell_type": "code",
   "execution_count": 128,
   "metadata": {},
   "outputs": [
    {
     "name": "stdout",
     "output_type": "stream",
     "text": [
      "0\n",
      "1\n",
      "2\n",
      "3\n",
      "4\n",
      "5\n",
      "6\n",
      "7\n",
      "8\n",
      "9\n",
      "10\n",
      "11\n",
      "12\n",
      "13\n",
      "14\n",
      "15\n",
      "16\n",
      "17\n",
      "18\n",
      "19\n",
      "20\n",
      "21\n",
      "22\n",
      "23\n",
      "24\n",
      "25\n",
      "26\n",
      "27\n",
      "28\n",
      "29\n",
      "30\n",
      "31\n",
      "32\n",
      "33\n",
      "34\n",
      "35\n",
      "36\n",
      "37\n",
      "38\n",
      "39\n",
      "40\n",
      "41\n",
      "42\n",
      "43\n",
      "44\n",
      "45\n",
      "46\n",
      "47\n",
      "48\n",
      "49\n",
      "50\n",
      "51\n",
      "52\n",
      "53\n",
      "54\n",
      "55\n",
      "56\n",
      "57\n",
      "58\n",
      "59\n",
      "60\n",
      "61\n",
      "62\n",
      "63\n",
      "64\n",
      "65\n",
      "66\n",
      "67\n",
      "68\n",
      "69\n",
      "70\n",
      "71\n",
      "72\n",
      "73\n",
      "74\n",
      "75\n",
      "76\n",
      "77\n",
      "78\n",
      "79\n",
      "80\n",
      "81\n",
      "82\n",
      "83\n",
      "84\n",
      "85\n",
      "86\n",
      "87\n",
      "88\n",
      "89\n",
      "90\n",
      "91\n",
      "92\n",
      "93\n",
      "94\n",
      "95\n",
      "96\n",
      "97\n",
      "98\n",
      "99\n",
      "100\n",
      "101\n",
      "102\n",
      "103\n",
      "104\n",
      "105\n",
      "106\n",
      "107\n",
      "108\n",
      "109\n",
      "110\n",
      "111\n",
      "112\n",
      "113\n",
      "114\n",
      "115\n"
     ]
    }
   ],
   "source": [
    "import pandas as pd\n",
    "import time\n",
    "fundf = pd.DataFrame(columns=['fundname', 'isincode'])\n",
    "\n",
    "url_base = \"https://www.jasdec.com/reading/itmei.php?error_flg=&todb=ok&isincode=&name=&brandname=&nexts=&offset={offset}&rowcntmax=5760&linkno={linkno}&delhead=&invite=&kensaku=\"\n",
    "\n",
    "max_funds = 5760\n",
    "ds_num = 50\n",
    "page_num = 116\n",
    "os_name = 10\n",
    "os_isin = 15\n",
    "span = 11\n",
    "\n",
    "for p in range(page_num):\n",
    "    url = url_base.format(offset=(p-1)*ds_num,linkno=p+1)\n",
    "    response = requests.get(url)\n",
    "    soup = BeautifulSoup(response.text, \"html.parser\")\n",
    "    tables = soup.find_all('td')\n",
    "    for i in range(ds_num):\n",
    "        if p*ds_num+i >= max_funds:\n",
    "            break\n",
    "        index_name = os_name + i * span\n",
    "        index_isin = os_isin + i * span\n",
    "        name = tables[index_name].get_text().strip()\n",
    "        isin = tables[index_isin].get_text().strip()\n",
    "        fundf = fundf.append({'fundname': name, 'isincode': isin}, ignore_index=True)\n",
    "    \n",
    "    print(p)\n",
    "    time.sleep(1)\n",
    "\n",
    "    "
   ]
  },
  {
   "cell_type": "code",
   "execution_count": 107,
   "metadata": {},
   "outputs": [
    {
     "ename": "IndexError",
     "evalue": "list index out of range",
     "output_type": "error",
     "traceback": [
      "\u001b[1;31m---------------------------------------------------------------------------\u001b[0m",
      "\u001b[1;31mIndexError\u001b[0m                                Traceback (most recent call last)",
      "\u001b[1;32m<ipython-input-107-a831b97f7e46>\u001b[0m in \u001b[0;36m<module>\u001b[1;34m\u001b[0m\n\u001b[0;32m      2\u001b[0m \u001b[0mindex_name\u001b[0m \u001b[1;33m=\u001b[0m \u001b[1;36m0\u001b[0m\u001b[1;33m\u001b[0m\u001b[1;33m\u001b[0m\u001b[0m\n\u001b[0;32m      3\u001b[0m \u001b[0mindex_isin\u001b[0m \u001b[1;33m=\u001b[0m \u001b[1;36m5\u001b[0m\u001b[1;33m\u001b[0m\u001b[1;33m\u001b[0m\u001b[0m\n\u001b[1;32m----> 4\u001b[1;33m \u001b[0mn\u001b[0m \u001b[1;33m=\u001b[0m \u001b[0mt\u001b[0m\u001b[1;33m.\u001b[0m\u001b[0mfind_all\u001b[0m\u001b[1;33m(\u001b[0m\u001b[1;34m\"tr\"\u001b[0m\u001b[1;33m)\u001b[0m\u001b[1;33m[\u001b[0m\u001b[0mindex_name\u001b[0m\u001b[1;33m]\u001b[0m\u001b[1;33m.\u001b[0m\u001b[0mfind_all\u001b[0m\u001b[1;33m(\u001b[0m\u001b[1;33m[\u001b[0m\u001b[1;34m'td'\u001b[0m\u001b[1;33m]\u001b[0m\u001b[1;33m)\u001b[0m\u001b[1;33m[\u001b[0m\u001b[1;36m0\u001b[0m\u001b[1;33m]\u001b[0m\u001b[1;33m.\u001b[0m\u001b[0mget_text\u001b[0m\u001b[1;33m(\u001b[0m\u001b[1;33m)\u001b[0m\u001b[1;33m.\u001b[0m\u001b[0mstrip\u001b[0m\u001b[1;33m(\u001b[0m\u001b[1;33m)\u001b[0m\u001b[1;33m\u001b[0m\u001b[1;33m\u001b[0m\u001b[0m\n\u001b[0m\u001b[0;32m      5\u001b[0m \u001b[0mi\u001b[0m \u001b[1;33m=\u001b[0m \u001b[0mt\u001b[0m\u001b[1;33m.\u001b[0m\u001b[0mfind_all\u001b[0m\u001b[1;33m(\u001b[0m\u001b[1;34m\"tr\"\u001b[0m\u001b[1;33m)\u001b[0m\u001b[1;33m[\u001b[0m\u001b[0mindex_isin\u001b[0m\u001b[1;33m]\u001b[0m\u001b[1;33m.\u001b[0m\u001b[0mfind_all\u001b[0m\u001b[1;33m(\u001b[0m\u001b[1;33m[\u001b[0m\u001b[1;34m'td'\u001b[0m\u001b[1;33m]\u001b[0m\u001b[1;33m)\u001b[0m\u001b[1;33m[\u001b[0m\u001b[1;36m0\u001b[0m\u001b[1;33m]\u001b[0m\u001b[1;33m.\u001b[0m\u001b[0mget_text\u001b[0m\u001b[1;33m(\u001b[0m\u001b[1;33m)\u001b[0m\u001b[1;33m.\u001b[0m\u001b[0mstrip\u001b[0m\u001b[1;33m(\u001b[0m\u001b[1;33m)\u001b[0m\u001b[1;33m\u001b[0m\u001b[1;33m\u001b[0m\u001b[0m\n\u001b[0;32m      6\u001b[0m \u001b[0mprint\u001b[0m\u001b[1;33m(\u001b[0m\u001b[0mn\u001b[0m\u001b[1;33m)\u001b[0m\u001b[1;33m\u001b[0m\u001b[1;33m\u001b[0m\u001b[0m\n",
      "\u001b[1;31mIndexError\u001b[0m: list index out of range"
     ]
    }
   ],
   "source": [
    "t = tables[0]\n",
    "index_name = 0\n",
    "index_isin = 5\n",
    "n = t.find_all(\"tr\")[index_name].find_all(['td'])[0].get_text().strip()\n",
    "i = t.find_all(\"tr\")[index_isin].find_all(['td'])[0].get_text().strip()\n",
    "print(n)\n",
    "print(i)"
   ]
  },
  {
   "cell_type": "code",
   "execution_count": 109,
   "metadata": {},
   "outputs": [
    {
     "name": "stdout",
     "output_type": "stream",
     "text": [
      "アジア製造業ファンド\n",
      "JP90C0000029\n",
      "ＢＡＭワールド・ボンド＆カレンシー・ファンド（毎月決算型）\n",
      "JP90C0000037\n",
      "しんきんインデックスファンド２２５\n",
      "JP90C00000B4\n",
      "しんきんトピックスオープン\n",
      "JP90C00000C2\n",
      "しんきん好配当利回り株ファンド\n",
      "JP90C00000D0\n",
      "しんきん国内債券ファンド\n",
      "JP90C00000E8\n",
      "フコクＳＲＩ（社会的責任投資）ファンド\n",
      "JP90C00000F5\n",
      "しんきんＪリートオープン（毎月決算型）\n",
      "JP90C00000G3\n",
      "しんきん海外ソブリン債セレクション（欧州ソブリン債ポートフォリオ）\n",
      "JP90C00000R0\n",
      "しんきん海外ソブリン債セレクション（米国ソブリン債ポートフォリオ）\n",
      "JP90C00000S8\n",
      "しんきん海外ソブリン債セレクション（欧米ソブリン債ポートフォリオ）\n",
      "JP90C00000T6\n",
      "しんきん３資産ファンド（毎月決算型）\n",
      "JP90C00000U4\n",
      "しんきん世界好配当利回り株ファンド（毎月決算型）\n",
      "JP90C00000V2\n",
      "しんきん好配当利回り株ファンド（３ヵ月決算型）\n",
      "JP90C00000W0\n",
      "しんきんグローバル６資産ファンド（毎月決算型）\n",
      "JP90C00000X8\n",
      "ＤＣ日産株ファンド\n",
      "JP90C00002S4\n",
      "日本株式インデックスファンド\n",
      "JP90C00002U0\n",
      "日本債券インデックスファンド\n",
      "JP90C00002V8\n",
      "外国株式インデックスファンド\n",
      "JP90C00002W6\n",
      "外国債券インデックスファンド\n",
      "JP90C00002X4\n",
      "ＤＣ日本株式インデックスファンド\n",
      "JP90C0000326\n",
      "ＤＣ日本債券インデックスファンド\n",
      "JP90C0000334\n",
      "ＤＣ外国株式インデックスファンド\n",
      "JP90C0000342\n",
      "ＤＣ外国債券インデックスファンド\n",
      "JP90C0000359\n",
      "ＤＣ日本株式インデックスファンドＬ\n",
      "JP90C0000367\n",
      "ＤＣ日本株式インデックスファンドＡ\n",
      "JP90C0000375\n",
      "ＤＣ日本債券インデックスファンドＬ\n",
      "JP90C0000391\n",
      "ＤＣ外国株式インデックスファンドＬ\n",
      "JP90C00003A0\n",
      "ＤＣ外国債券インデックスファンドＬ\n",
      "JP90C00003B8\n",
      "ＤＣ日本株式エクセレント・フォーカス\n",
      "JP90C00003C6\n",
      "Ｊリートファンド\n",
      "JP90C00003D4\n",
      "高金利ソブリンオープン\n",
      "JP90C00003E2\n",
      "日本株配当オープン\n",
      "JP90C00003G7\n",
      "３資産バランスオープン\n",
      "JP90C00003H5\n",
      "３資産バランスオープンアルファ\n",
      "JP90C00003J1\n",
      "ＤＣバランスファンド３０\n",
      "JP90C00003K9\n",
      "ＤＣバランスファンド５０\n",
      "JP90C00003L7\n",
      "ＤＣバランスファンド７０\n",
      "JP90C00003M5\n",
      "イーストスプリング米国高利回り社債オープン\n",
      "JP90C00005D9\n",
      "イーストスプリング・アジア・オセアニア好配当株式ファンド（適格機関投資家専用）\n",
      "JP90C00005L2\n",
      "イーストスプリング・アジア・オセアニア好配当株式オープン（毎月分配型）\n",
      "JP90C00005M0\n",
      "イーストスプリング・アジア・オセアニア好配当株式オープン\n",
      "JP90C00005N8\n",
      "イーストスプリング・インド株式オープン\n",
      "JP90C00005P3\n",
      "イーストスプリング国内債券ファンド（国債）追加型Ｉ（適格機関投資家向け）\n",
      "JP90C00005S7\n",
      "スーパー小型株ポートフォリオ\n",
      "JP90C00006U1\n",
      "三井住友・日本株オープン\n",
      "JP90C00006W7\n",
      "三井住友・株式アナライザー・オープン\n",
      "JP90C0000755\n",
      "三井住友・２２５オープン\n",
      "JP90C0000789\n",
      "シナプス（Ｓｙｎａｐｓｅ）\n",
      "JP90C00007B9\n",
      "三井住友・ス−パ−アクティブ・オ−プン\n",
      "JP90C00007C7\n"
     ]
    }
   ],
   "source": [
    "tables = soup.find_all('td')\n",
    "os_name = 10\n",
    "os_isin = 15\n",
    "span = 11\n",
    "for i in range(50):\n",
    "    index_name = os_name + i * span\n",
    "    index_isin = os_isin + i * span\n",
    "    name = tables[index_name].get_text().strip()\n",
    "    isin = tables[index_isin].get_text().strip()\n",
    "    print(name)\n",
    "    print(isin)\n",
    "    fundf = fundf.append({'fundname': name, 'isincode': isin}, ignore_index=True)\n"
   ]
  },
  {
   "cell_type": "code",
   "execution_count": 78,
   "metadata": {},
   "outputs": [
    {
     "ename": "IndexError",
     "evalue": "list index out of range",
     "output_type": "error",
     "traceback": [
      "\u001b[1;31m---------------------------------------------------------------------------\u001b[0m",
      "\u001b[1;31mIndexError\u001b[0m                                Traceback (most recent call last)",
      "\u001b[1;32m<ipython-input-78-a831b97f7e46>\u001b[0m in \u001b[0;36m<module>\u001b[1;34m\u001b[0m\n\u001b[0;32m      2\u001b[0m \u001b[0mindex_name\u001b[0m \u001b[1;33m=\u001b[0m \u001b[1;36m0\u001b[0m\u001b[1;33m\u001b[0m\u001b[1;33m\u001b[0m\u001b[0m\n\u001b[0;32m      3\u001b[0m \u001b[0mindex_isin\u001b[0m \u001b[1;33m=\u001b[0m \u001b[1;36m5\u001b[0m\u001b[1;33m\u001b[0m\u001b[1;33m\u001b[0m\u001b[0m\n\u001b[1;32m----> 4\u001b[1;33m \u001b[0mn\u001b[0m \u001b[1;33m=\u001b[0m \u001b[0mt\u001b[0m\u001b[1;33m.\u001b[0m\u001b[0mfind_all\u001b[0m\u001b[1;33m(\u001b[0m\u001b[1;34m\"tr\"\u001b[0m\u001b[1;33m)\u001b[0m\u001b[1;33m[\u001b[0m\u001b[0mindex_name\u001b[0m\u001b[1;33m]\u001b[0m\u001b[1;33m.\u001b[0m\u001b[0mfind_all\u001b[0m\u001b[1;33m(\u001b[0m\u001b[1;33m[\u001b[0m\u001b[1;34m'td'\u001b[0m\u001b[1;33m]\u001b[0m\u001b[1;33m)\u001b[0m\u001b[1;33m[\u001b[0m\u001b[1;36m0\u001b[0m\u001b[1;33m]\u001b[0m\u001b[1;33m.\u001b[0m\u001b[0mget_text\u001b[0m\u001b[1;33m(\u001b[0m\u001b[1;33m)\u001b[0m\u001b[1;33m.\u001b[0m\u001b[0mstrip\u001b[0m\u001b[1;33m(\u001b[0m\u001b[1;33m)\u001b[0m\u001b[1;33m\u001b[0m\u001b[1;33m\u001b[0m\u001b[0m\n\u001b[0m\u001b[0;32m      5\u001b[0m \u001b[0mi\u001b[0m \u001b[1;33m=\u001b[0m \u001b[0mt\u001b[0m\u001b[1;33m.\u001b[0m\u001b[0mfind_all\u001b[0m\u001b[1;33m(\u001b[0m\u001b[1;34m\"tr\"\u001b[0m\u001b[1;33m)\u001b[0m\u001b[1;33m[\u001b[0m\u001b[0mindex_isin\u001b[0m\u001b[1;33m]\u001b[0m\u001b[1;33m.\u001b[0m\u001b[0mfind_all\u001b[0m\u001b[1;33m(\u001b[0m\u001b[1;33m[\u001b[0m\u001b[1;34m'td'\u001b[0m\u001b[1;33m]\u001b[0m\u001b[1;33m)\u001b[0m\u001b[1;33m[\u001b[0m\u001b[1;36m0\u001b[0m\u001b[1;33m]\u001b[0m\u001b[1;33m.\u001b[0m\u001b[0mget_text\u001b[0m\u001b[1;33m(\u001b[0m\u001b[1;33m)\u001b[0m\u001b[1;33m.\u001b[0m\u001b[0mstrip\u001b[0m\u001b[1;33m(\u001b[0m\u001b[1;33m)\u001b[0m\u001b[1;33m\u001b[0m\u001b[1;33m\u001b[0m\u001b[0m\n\u001b[0;32m      6\u001b[0m \u001b[0mprint\u001b[0m\u001b[1;33m(\u001b[0m\u001b[0mn\u001b[0m\u001b[1;33m)\u001b[0m\u001b[1;33m\u001b[0m\u001b[1;33m\u001b[0m\u001b[0m\n",
      "\u001b[1;31mIndexError\u001b[0m: list index out of range"
     ]
    }
   ],
   "source": [
    "\n",
    "\n",
    "t = tables[0]\n",
    "index_name = 0\n",
    "index_isin = 5\n",
    "n = t.find_all(\"tr\")[index_name].find_all(['td'])[0].get_text().strip()\n",
    "i = t.find_all(\"tr\")[index_isin].find_all(['td'])[0].get_text().strip()\n",
    "print(n)\n",
    "print(i)"
   ]
  },
  {
   "cell_type": "code",
   "execution_count": 19,
   "metadata": {},
   "outputs": [
    {
     "ename": "NameError",
     "evalue": "name 'fundf' is not defined",
     "output_type": "error",
     "traceback": [
      "\u001b[0;31m---------------------------------------------------------------------------\u001b[0m",
      "\u001b[0;31mNameError\u001b[0m                                 Traceback (most recent call last)",
      "\u001b[0;32m<ipython-input-19-eef694b77f9a>\u001b[0m in \u001b[0;36m<module>\u001b[0;34m\u001b[0m\n\u001b[0;32m----> 1\u001b[0;31m \u001b[0mfundf\u001b[0m\u001b[0;34m.\u001b[0m\u001b[0mto_csv\u001b[0m\u001b[0;34m(\u001b[0m\u001b[0;34m'fundf.csv'\u001b[0m\u001b[0;34m)\u001b[0m\u001b[0;34m\u001b[0m\u001b[0;34m\u001b[0m\u001b[0m\n\u001b[0m",
      "\u001b[0;31mNameError\u001b[0m: name 'fundf' is not defined"
     ]
    }
   ],
   "source": [
    "fundf.to_csv('fundf.csv')"
   ]
  },
  {
   "cell_type": "code",
   "execution_count": 3,
   "metadata": {},
   "outputs": [],
   "source": [
    "fundfc = pd.read_csv('fundf_c.csv',index_col=0)"
   ]
  },
  {
   "cell_type": "code",
   "execution_count": 22,
   "metadata": {},
   "outputs": [],
   "source": [
    "fundf = pd.read_csv('fundf.csv',index_col=0)"
   ]
  },
  {
   "cell_type": "code",
   "execution_count": 4,
   "metadata": {},
   "outputs": [
    {
     "name": "stdout",
     "output_type": "stream",
     "text": [
      "ひふみプラス\n",
      "JP90C0008CH5\n",
      "ちゅうぎん日経２２５　インデックスファンド\n",
      "JP90C0008CJ1\n",
      "好配当優良株ジャパン・オープン\n",
      "JP90C0008CQ6\n"
     ]
    }
   ],
   "source": [
    "for fc in fundfc.itertuples():\n",
    "    print(fc[1])\n",
    "    print(fc[2])"
   ]
  },
  {
   "cell_type": "code",
   "execution_count": 23,
   "metadata": {},
   "outputs": [],
   "source": [
    "url_base = \"https://toushin-lib.fwg.ne.jp/FdsWeb/FDST030000?isinCd={isin}\"\n",
    "dl_base = \"https://toushin-lib.fwg.ne.jp\"\n",
    "for fc in fundf.itertuples():\n",
    "    isin = fc[2]\n",
    "    url = url_base.format(isin=isin)\n",
    "    response = requests.get(url)\n",
    "    soup = BeautifulSoup(response.text, \"html.parser\")\n",
    "    dl = soup.find_all('a',{\"id\":\"download\"})\n",
    "    if len(dl) == 0:\n",
    "        continue\n",
    "    dl_url = dl_base+dl[0].get('href')\n",
    "    res = requests.get(dl_url)\n",
    "    saveFileName = isin + \".csv\"\n",
    "    with open(saveFileName, 'wb') as saveFile:\n",
    "        saveFile.write(res.content)\n",
    "#     print(dl_url)\n",
    "    time.sleep(1)"
   ]
  },
  {
   "cell_type": "code",
   "execution_count": 17,
   "metadata": {},
   "outputs": [],
   "source": [
    "funds = ['JP90C0008CH5','JP90C0008CJ1','JP90C0008CQ6']\n",
    "\n",
    "#一つだけロードしベースとする\n",
    "p = pd.read_csv(funds[0]+'.csv', encoding=\"shift-jis\")\n",
    "p['date'] = pd.to_datetime(p['年月日'], format='%Y年%m月%d日')\n",
    "p.index = p['date']\n",
    "p.drop(columns=['年月日','純資産総額（百万円）','分配金','決算期','date'], inplace=True)\n",
    "p.columns=['base']\n",
    "\n",
    "for fc in funds:\n",
    "    tmp = pd.read_csv(fc+'.csv', encoding=\"shift-jis\")\n",
    "    tmp.index = pd.to_datetime(tmp['年月日'], format='%Y年%m月%d日')\n",
    "    tmp.drop(columns=['年月日','純資産総額（百万円）','分配金','決算期'], inplace=True)\n",
    "    tmp.columns=[fc]\n",
    "    p = p.join(tmp, how='inner')\n",
    "\n",
    "p.drop(columns=['base'], inplace=True)\n",
    "pr = p/p.iloc[0,:]\n",
    "pr['日付'] = pr.index"
   ]
  },
  {
   "cell_type": "code",
   "execution_count": 11,
   "metadata": {},
   "outputs": [],
   "source": [
    "import pandas_datareader.data as pdr\n",
    "import datetime\n",
    "\n",
    "# データ取得\n",
    "ticker = ['QQQ','SPY','VTI','GLD']\n",
    "start = datetime.date(2018, 1, 1)\n",
    "end = datetime.date(2020, 12, 31)\n",
    "#一つだけロードしベースとする\n",
    "pd_data = pdr.DataReader(ticker[0], 'yahoo', start, end)\n",
    "pd_data.drop(columns=['High', 'Low', 'Open', 'Close', 'Volume'], inplace=True)\n",
    "pd_data.columns = ['base']\n",
    "\n",
    "for tic in ticker:\n",
    "    pdv = pdr.DataReader(tic, 'yahoo', start, end)\n",
    "    pdv.drop(columns=['High', 'Low', 'Open', 'Close', 'Volume'], inplace=True)\n",
    "    pdv.columns = [tic]\n",
    "    pd_data = pd_data.join(pdv, how='inner')\n",
    "\n",
    "pd_data.drop(columns=['base'], inplace=True)\n",
    "pd_ratio = pd_data/pd_data.iloc[0,:]\n",
    "pd_ratio['日付'] = pd_ratio.index"
   ]
  },
  {
   "cell_type": "code",
   "execution_count": null,
   "metadata": {},
   "outputs": [],
   "source": []
  }
 ],
 "metadata": {
  "kernelspec": {
   "display_name": "Python 3",
   "language": "python",
   "name": "python3"
  },
  "language_info": {
   "codemirror_mode": {
    "name": "ipython",
    "version": 3
   },
   "file_extension": ".py",
   "mimetype": "text/x-python",
   "name": "python",
   "nbconvert_exporter": "python",
   "pygments_lexer": "ipython3",
   "version": "3.7.9"
  }
 },
 "nbformat": 4,
 "nbformat_minor": 4
}
