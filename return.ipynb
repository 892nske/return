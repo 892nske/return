{
 "cells": [
  {
   "cell_type": "code",
   "execution_count": 5,
   "metadata": {},
   "outputs": [
    {
     "data": {
      "text/plain": [
       "<bound method NDFrame.head of            日付   基準価額\n",
       "0    20200107   9996\n",
       "1    20200108   9909\n",
       "2    20200109  10060\n",
       "3    20200110  10168\n",
       "4    20200114  10253\n",
       "..        ...    ...\n",
       "113  20200624  10007\n",
       "114  20200625   9784\n",
       "115  20200626   9764\n",
       "116  20200629   9719\n",
       "117  20200630   9795\n",
       "\n",
       "[118 rows x 2 columns]>"
      ]
     },
     "execution_count": 5,
     "metadata": {},
     "output_type": "execute_result"
    }
   ],
   "source": [
    "import pandas as pd\n",
    "\n",
    "values = pd.read_csv('2020010705_20200101-20200630.csv')\n",
    "values.head"
   ]
  },
  {
   "cell_type": "code",
   "execution_count": null,
   "metadata": {},
   "outputs": [],
   "source": []
  }
 ],
 "metadata": {
  "kernelspec": {
   "display_name": "Python 3",
   "language": "python",
   "name": "python3"
  },
  "language_info": {
   "codemirror_mode": {
    "name": "ipython",
    "version": 3
   },
   "file_extension": ".py",
   "mimetype": "text/x-python",
   "name": "python",
   "nbconvert_exporter": "python",
   "pygments_lexer": "ipython3",
   "version": "3.6.10"
  }
 },
 "nbformat": 4,
 "nbformat_minor": 4
}
